{
 "cells": [
  {
   "cell_type": "markdown",
   "id": "309190c9-b525-4043-983c-0f5da8547b2a",
   "metadata": {},
   "source": [
    "# [Insert question here]"
   ]
  },
  {
   "cell_type": "markdown",
   "id": "6503bbde-1638-406a-9876-9f8c3cd6d91f",
   "metadata": {},
   "source": [
    "## Introduction"
   ]
  },
  {
   "cell_type": "markdown",
   "id": "a1a77c00-fd96-4d54-ad73-db0848015d7b",
   "metadata": {},
   "source": [
    "## Preliminary exploratory data analysis"
   ]
  },
  {
   "cell_type": "markdown",
   "id": "c83a7b36-e9f3-4b5b-afd7-46b7ab05c57f",
   "metadata": {},
   "source": [
    "### Reading data"
   ]
  },
  {
   "cell_type": "markdown",
   "id": "dad5492a-2454-45a1-8a44-b80c2afa52c5",
   "metadata": {},
   "source": [
    "### Wrangling data"
   ]
  },
  {
   "cell_type": "markdown",
   "id": "d7322061-690b-43a2-8afb-931933cfdb5a",
   "metadata": {},
   "source": [
    "### Summarizing data"
   ]
  },
  {
   "cell_type": "markdown",
   "id": "dfb71ac6-c536-4c66-8db4-e8451bec7ab5",
   "metadata": {},
   "source": [
    "### Visualization "
   ]
  },
  {
   "cell_type": "code",
   "execution_count": null,
   "id": "5345b835-a042-43e5-8191-e613ee4f5e01",
   "metadata": {},
   "outputs": [],
   "source": [
    "options(repr.plot.width = 13, repr.plot.height = 14)\n",
    "heart_disease_viz <- heart_disease |>\n",
    " ggplot(aes(x = restinghr, y = cholesterol, colour = angina)) + \n",
    " geom_point() |>\n",
    " ggtitle |>\n",
    " theme() |>\n",
    " labs() |>\n",
    "heart_disease_viz"
   ]
  },
  {
   "cell_type": "markdown",
   "id": "ba573f96-6e47-4784-9214-10182e43d48b",
   "metadata": {},
   "source": [
    "## Methods"
   ]
  },
  {
   "cell_type": "markdown",
   "id": "bd3e6c14-37fc-4c73-8c1d-5e77e51b323a",
   "metadata": {},
   "source": [
    "## Expected outcomes and significance"
   ]
  },
  {
   "cell_type": "code",
   "execution_count": null,
   "id": "686387d7-5656-46d4-9c89-8028c1fa4350",
   "metadata": {},
   "outputs": [],
   "source": []
  }
 ],
 "metadata": {
  "kernelspec": {
   "display_name": "R",
   "language": "R",
   "name": "ir"
  },
  "language_info": {
   "codemirror_mode": "r",
   "file_extension": ".r",
   "mimetype": "text/x-r-source",
   "name": "R",
   "pygments_lexer": "r",
   "version": "4.3.1"
  }
 },
 "nbformat": 4,
 "nbformat_minor": 5
}
